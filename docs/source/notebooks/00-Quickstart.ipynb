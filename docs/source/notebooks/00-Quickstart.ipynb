{
 "cells": [
  {
   "cell_type": "markdown",
   "metadata": {},
   "source": [
    "# OPICS Quickstart\n",
    "\n",
    "## Installing OPICS\n",
    "### Installing from pypi\n",
    "\n",
    "The easiest way to install OPICS is using pip pypi:\n",
    "\n",
    "```console\n",
    "\n",
    "pip install opics\n",
    "\n",
    "```\n",
    "\n",
    "### Installing from source\n",
    "\n",
    "Download the OPICS source code.\n",
    "\n",
    "```console\n",
    "\n",
    "git clone https://github.com/jaspreetj/opics\n",
    "\n",
    "```\n",
    "\n",
    "Install the OPICS package using ``pip``.\n",
    "\n",
    "```console\n",
    "\n",
    "pip install -e ./opics\n",
    "\n",
    "```\n",
    "\n",
    "Once the package is installed, it can be imported using:"
   ]
  },
  {
   "cell_type": "code",
   "execution_count": null,
   "metadata": {},
   "outputs": [],
   "source": [
    "import opics as op"
   ]
  },
  {
   "cell_type": "markdown",
   "metadata": {},
   "source": [
    "## OPICS Libraries\n",
    "\n",
    "### Listing available libraries\n",
    "The package does not come with any component libraries pre-installed. You can select and download available libraries from the library catalogue."
   ]
  },
  {
   "cell_type": "code",
   "execution_count": null,
   "metadata": {},
   "outputs": [],
   "source": [
    "library_catalogue = op.libraries.library_catalogue\n",
    "\n",
    "print(f\"Available Libraries: {[_ for _ in library_catalogue.keys()]} \")"
   ]
  },
  {
   "cell_type": "markdown",
   "metadata": {},
   "source": [
    "### Downloading libraries\n",
    "\n",
    "The OPICS libraries are downloaded by passing in `library_name`, `library_url`, and `library_path` to the `libraries.download_library` module. The module returns `True` if the library is downloaded successfully."
   ]
  },
  {
   "cell_type": "code",
   "execution_count": null,
   "metadata": {},
   "outputs": [],
   "source": [
    "library = library_catalogue[\"ebeam\"]\n",
    "\n",
    "\n",
    "import os\n",
    "installation_path = os.path.join(os.path.join(os.environ['USERPROFILE']), 'Desktop\\\\delete') \n",
    "\n",
    "op.libraries.download_library(\n",
    "    library_name=library[\"name\"],\n",
    "    library_url=library[\"dl_link\"],\n",
    "    library_path=installation_path,\n",
    ")\n",
    "\n",
    "# reload libraries\n",
    "import importlib\n",
    "importlib.reload(op.libraries)"
   ]
  },
  {
   "cell_type": "markdown",
   "metadata": {},
   "source": [
    "### List installed libraries\n"
   ]
  },
  {
   "cell_type": "code",
   "execution_count": null,
   "metadata": {},
   "outputs": [],
   "source": [
    "op.libraries.installed_libraries"
   ]
  },
  {
   "cell_type": "markdown",
   "metadata": {},
   "source": [
    "### List library components"
   ]
  },
  {
   "cell_type": "code",
   "execution_count": null,
   "metadata": {},
   "outputs": [],
   "source": [
    "op.libraries.ebeam.components_list"
   ]
  },
  {
   "cell_type": "markdown",
   "metadata": {},
   "source": [
    "### Remove libraries\n",
    "\n",
    "Any of the installed libraries can be removed using the `libraries.remove_library` module."
   ]
  },
  {
   "cell_type": "code",
   "execution_count": null,
   "metadata": {},
   "outputs": [],
   "source": [
    "op.libraries.remove_library(\"ebeam\")\n",
    "\n",
    "importlib.reload(op.libraries)\n",
    "\n",
    "print(op.libraries.installed_libraries)"
   ]
  },
  {
   "cell_type": "code",
   "execution_count": null,
   "metadata": {},
   "outputs": [],
   "source": [
    "#reinstall ebeam library\n",
    "op.libraries.download_library(\n",
    "    library_name=library[\"name\"],\n",
    "    library_url=library[\"dl_link\"],\n",
    "    library_path=installation_path,\n",
    ")\n",
    "\n",
    "importlib.reload(op.libraries)\n",
    "\n",
    "print(op.libraries.installed_libraries)"
   ]
  },
  {
   "cell_type": "markdown",
   "metadata": {},
   "source": [
    "### Library components\n",
    "\n",
    "Let's take a look at the library components."
   ]
  },
  {
   "cell_type": "code",
   "execution_count": null,
   "metadata": {},
   "outputs": [],
   "source": [
    "ebeam_lib = op.libraries.ebeam"
   ]
  },
  {
   "cell_type": "markdown",
   "metadata": {},
   "source": [
    "Listing library components"
   ]
  },
  {
   "cell_type": "code",
   "execution_count": null,
   "metadata": {},
   "outputs": [],
   "source": [
    "ebeam_lib.components_list"
   ]
  },
  {
   "cell_type": "markdown",
   "metadata": {},
   "source": [
    "Let's take a look inside a component for more information on its parameters and layout, such as port locations."
   ]
  },
  {
   "cell_type": "code",
   "execution_count": null,
   "metadata": {},
   "outputs": [],
   "source": [
    "ebeam_lib.BDC?"
   ]
  },
  {
   "cell_type": "markdown",
   "metadata": {},
   "source": [
    "## Setting up a simulation\n",
    "\n",
    "The network module is used to define a circuit, add and connect components. The network module takes `network_id` and `f` as inputs. If no `f` or frequency data points specified, the network module uses the default value specified in `opics.globals.F`."
   ]
  },
  {
   "cell_type": "code",
   "execution_count": null,
   "metadata": {},
   "outputs": [],
   "source": [
    "from opics import Network\n",
    "from opics.globals import C\n",
    "import numpy as np\n",
    "\n",
    "freq = np.linspace(C * 1e6 / 1.5, C * 1e6 / 1.6, 2000)\n",
    "circuit = Network(network_id=\"circuit_name\", f=freq)"
   ]
  },
  {
   "cell_type": "markdown",
   "metadata": {},
   "source": [
    "Once an empty network is defined. We can start by adding components. "
   ]
  },
  {
   "cell_type": "code",
   "execution_count": null,
   "metadata": {},
   "outputs": [],
   "source": [
    "input_gc = circuit.add_component(ebeam_lib.GC)\n",
    "y = circuit.add_component(ebeam_lib.Y)\n",
    "wg2 = circuit.add_component(ebeam_lib.Waveguide, params=dict(length=0e-6))\n",
    "wg1 = circuit.add_component(ebeam_lib.Waveguide, params={\"length\":15e-6})\n",
    "y2 = circuit.add_component(ebeam_lib.Y)\n",
    "output_gc = circuit.add_component(ebeam_lib.GC)"
   ]
  },
  {
   "cell_type": "markdown",
   "metadata": {},
   "source": [
    "We can also define custom port names for components for easy reference."
   ]
  },
  {
   "cell_type": "code",
   "execution_count": null,
   "metadata": {},
   "outputs": [],
   "source": [
    "input_gc.set_port_reference(0, \"input_port\")\n",
    "output_gc.set_port_reference(0, \"output_port\")"
   ]
  },
  {
   "cell_type": "markdown",
   "metadata": {},
   "source": [
    "Connect components using the `Network.connect` module. "
   ]
  },
  {
   "cell_type": "code",
   "execution_count": null,
   "metadata": {},
   "outputs": [],
   "source": [
    "circuit.connect(input_gc, 1, y, 0)\n",
    "circuit.connect(y, 1, wg1, 0)\n",
    "circuit.connect(y, 2, wg2, 0)\n",
    "circuit.connect(y2, 0, output_gc, 1)\n",
    "circuit.connect(wg1, 1, y2, 1)\n",
    "circuit.connect(wg2, 1, y2, 2)"
   ]
  },
  {
   "cell_type": "markdown",
   "metadata": {},
   "source": [
    "Simulate the network/circuit"
   ]
  },
  {
   "cell_type": "code",
   "execution_count": null,
   "metadata": {},
   "outputs": [],
   "source": [
    "circuit.simulate_network()"
   ]
  },
  {
   "cell_type": "markdown",
   "metadata": {},
   "source": [
    "Plot the simulated response"
   ]
  },
  {
   "cell_type": "code",
   "execution_count": null,
   "metadata": {},
   "outputs": [],
   "source": [
    "circuit.sim_result.plot_sparameters(show_freq=False)"
   ]
  },
  {
   "cell_type": "markdown",
   "metadata": {},
   "source": [
    "An interactive plot can be spawned by enabling the interactive option."
   ]
  },
  {
   "cell_type": "code",
   "execution_count": null,
   "metadata": {},
   "outputs": [],
   "source": [
    "circuit.sim_result.plot_sparameters(show_freq=False, interactive=True)"
   ]
  }
 ],
 "metadata": {
  "interpreter": {
   "hash": "b1807c3e8799192c8ef0a1976ee6a1ff9a5e2f25907ec9b4426f1eb7e23bfc59"
  },
  "kernelspec": {
   "display_name": "Python 3.8.8 ('base')",
   "language": "python",
   "name": "python3"
  },
  "language_info": {
   "codemirror_mode": {
    "name": "ipython",
    "version": 3
   },
   "file_extension": ".py",
   "mimetype": "text/x-python",
   "name": "python",
   "nbconvert_exporter": "python",
   "pygments_lexer": "ipython3",
   "version": "3.8.8"
  }
 },
 "nbformat": 4,
 "nbformat_minor": 2
}
