{
 "cells": [
  {
   "cell_type": "markdown",
   "metadata": {},
   "source": [
    "# Network Concatenation\n",
    "\n",
    "The results of OPICS Networks/Circuits can be concatenated together to build large networks. In this notebook, we will explore this use-case in more-depth using the example of a two-stage lattice filter."
   ]
  },
  {
   "cell_type": "code",
   "execution_count": null,
   "metadata": {},
   "outputs": [],
   "source": [
    "import opics as op\n",
    "from opics.libraries import ebeam"
   ]
  },
  {
   "cell_type": "markdown",
   "metadata": {},
   "source": [
    "Let's create a mach-zehnder interferometer circuit, and call it `stage_1`."
   ]
  },
  {
   "cell_type": "code",
   "execution_count": null,
   "metadata": {},
   "outputs": [],
   "source": [
    "circuit1 = op.Network(network_id=\"stage_1\")\n",
    "circuit1.add_component(ebeam.BDC, component_id=\"bdc1\")\n",
    "circuit1.add_component(ebeam.BDC, component_id=\"bdc2\")\n",
    "circuit1.add_component(ebeam.Waveguide, params=dict(\n",
    "    length=10e-6), component_id=\"wg1\")\n",
    "circuit1.add_component(ebeam.Waveguide, params=dict(\n",
    "    length=9.93e-6), component_id=\"wg2\")\n",
    "\n",
    "circuit1.connect(\"bdc1\", 2, \"wg1\", 0)\n",
    "circuit1.connect(\"bdc1\", 3, \"wg2\", 0)\n",
    "circuit1.connect(\"bdc2\", 0, \"wg1\", 1)\n",
    "circuit1.connect(\"bdc2\", 1, \"wg2\", 1)\n",
    "circuit1 = circuit1.simulate_network()"
   ]
  },
  {
   "cell_type": "markdown",
   "metadata": {},
   "source": [
    "Let's create another mach-zehnder interferometer circuit, and call it `stage_2`."
   ]
  },
  {
   "cell_type": "code",
   "execution_count": null,
   "metadata": {},
   "outputs": [],
   "source": [
    "circuit2 = op.Network(network_id=\"stage_2\")\n",
    "circuit2.add_component(ebeam.BDC, component_id=\"bdc1\")\n",
    "circuit2.add_component(ebeam.BDC, component_id=\"bdc2\")\n",
    "circuit2.add_component(ebeam.Waveguide, params=dict(\n",
    "    length=10e-6), component_id=\"wg1\")\n",
    "circuit2.add_component(ebeam.Waveguide, params=dict(\n",
    "    length=10.08e-6), component_id=\"wg2\")\n",
    "circuit2.connect(\"bdc1\", 2, \"wg1\", 0)\n",
    "circuit2.connect(\"bdc1\", 3, \"wg2\", 0)\n",
    "circuit2.connect(\"bdc2\", 0, \"wg1\", 1)\n",
    "circuit2.connect(\"bdc2\", 1, \"wg2\", 1)\n",
    "circuit2 = circuit2.simulate_network()"
   ]
  },
  {
   "cell_type": "markdown",
   "metadata": {},
   "source": [
    "Let's create a root circuit and concatenate both networks \n",
    "```\n",
    "  .-------.         .-------.         .____.\n",
    "--|stage_1|---------|stage_2|---------|BDC | --\n",
    "--|_______|-- wg1 --|_______|-- wg2 --|____| --\n",
    "```"
   ]
  },
  {
   "cell_type": "code",
   "execution_count": null,
   "metadata": {},
   "outputs": [],
   "source": [
    "root = op.Network(network_id=\"root\")\n",
    "\n",
    "root.add_component(circuit1, circuit1.component_id)\n",
    "root.add_component(circuit2, circuit2.component_id)\n",
    "\n",
    "root.add_component(ebeam.Waveguide, params=dict(\n",
    "    length=100.125e-6), component_id=\"wg1\")\n",
    "root.add_component(ebeam.Waveguide, params=dict(\n",
    "    length=50e-6), component_id=\"wg2\")\n",
    "\n",
    "root.add_component(ebeam.BDC, component_id=\"bdc\")\n",
    "\n",
    "root.connect(\"stage_1\", 2, \"stage_2\", 0)\n",
    "\n",
    "root.connect(\"stage_1\", 3, \"wg1\", 0)\n",
    "root.connect(\"stage_2\", 1, \"wg1\", 1)\n",
    "\n",
    "root.connect(\"stage_2\", 2, \"bdc\", 0)\n",
    "root.connect(\"stage_2\", 3, \"wg2\", 0)\n",
    "root.connect(\"bdc\", 1, \"wg2\", 1)\n",
    "root.simulate_network()"
   ]
  },
  {
   "cell_type": "code",
   "execution_count": null,
   "metadata": {},
   "outputs": [],
   "source": [
    "root.sim_result.plot_sparameters(show_freq=False, ports=[[2,0], [3,0]], interactive=True)"
   ]
  }
 ],
 "metadata": {
  "interpreter": {
   "hash": "b1807c3e8799192c8ef0a1976ee6a1ff9a5e2f25907ec9b4426f1eb7e23bfc59"
  },
  "kernelspec": {
   "display_name": "Python 3.8.8 ('base')",
   "language": "python",
   "name": "python3"
  },
  "language_info": {
   "codemirror_mode": {
    "name": "ipython",
    "version": 3
   },
   "file_extension": ".py",
   "mimetype": "text/x-python",
   "name": "python",
   "nbconvert_exporter": "python",
   "pygments_lexer": "ipython3",
   "version": "3.8.8"
  }
 },
 "nbformat": 4,
 "nbformat_minor": 2
}
