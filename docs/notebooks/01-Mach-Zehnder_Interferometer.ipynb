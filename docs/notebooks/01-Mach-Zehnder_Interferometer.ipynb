{
 "cells": [
  {
   "cell_type": "markdown",
   "metadata": {},
   "source": [
    "# Mach-Zehnder Interferometer (MZI)\n",
    "\n",
    "**We use SiEPIC EBeam library in this tutorial.**\n",
    "\n",
    "   This notebook walks through the process of setting up and simulating a mach-zehnder interferometer device using the OPICS package. \n",
    "\n",
    "   A mach-zehnder interferometer is a basic waveguide interference device. It consists of two couplers (or Y branches) connected by two waveguides of different length (see below). The difference between the two waveguide lengths causes differential delay, which contributes to the frequency dependent interference pattern.\n",
    "\n",
    "<img style=\"width:70%;height:50%;\" src=\"files/MZI1.svg\">"
   ]
  },
  {
   "cell_type": "code",
   "execution_count": null,
   "metadata": {},
   "outputs": [],
   "source": [
    "import time, warnings\n",
    "import numpy as np\n",
    "import matplotlib.pyplot as plt\n",
    "import opics as op"
   ]
  },
  {
   "cell_type": "markdown",
   "metadata": {},
   "source": [
    "### Import component library\n",
    "Import `ebeam` library from `libs` module."
   ]
  },
  {
   "cell_type": "code",
   "execution_count": null,
   "metadata": {},
   "outputs": [],
   "source": [
    "ebeam = op.libs.ebeam"
   ]
  },
  {
   "cell_type": "markdown",
   "metadata": {},
   "source": [
    "### Define network \n",
    "Create an instance of `Network` class, which is used to add, connect, and simulate circuit components. "
   ]
  },
  {
   "cell_type": "code",
   "execution_count": null,
   "metadata": {},
   "outputs": [],
   "source": [
    "circuit_name = \"mzi\"\n",
    "circuit = op.Network()"
   ]
  },
  {
   "cell_type": "markdown",
   "metadata": {},
   "source": [
    "### Add circuit components\n",
    "\n",
    "Add grating couplers, 3dB power splitters (e.g. Y-splitter or Y-branch), and waveguides to circuit. You can define custom frequency data points for a component as well (see the example for output_GC)."
   ]
  },
  {
   "cell_type": "code",
   "execution_count": null,
   "metadata": {},
   "outputs": [],
   "source": [
    "#define component instances\n",
    "input_gc  = circuit.add_component(ebeam.GC())\n",
    "y1 =   circuit.add_component(ebeam.Y())\n",
    "wg1 =  circuit.add_component(ebeam.Waveguide(length=50e-6))\n",
    "wg2 =  circuit.add_component(ebeam.Waveguide(length=150e-6))\n",
    "y2 =  circuit.add_component(ebeam.Y())\n",
    "\n",
    "#defining custom frequency data points for a component\n",
    "f = np.linspace(op.c*1e6/1.5, op.c*1e6/1.6, 2000)\n",
    "output_gc = circuit.add_component(ebeam.GC(f))\n"
   ]
  },
  {
   "cell_type": "markdown",
   "metadata": {},
   "source": [
    "### Define circuit connectivity\n",
    "\n",
    "In this section, we define the component connections. The connections are defined using `Network.connect`, e.g.\n",
    "\n",
    "`Network.connect(component1, component1_port, component2, component2_port)`"
   ]
  },
  {
   "cell_type": "code",
   "execution_count": null,
   "metadata": {},
   "outputs": [],
   "source": [
    "#define circuit connectivity\n",
    "circuit.connect(input_gc, 1, y1, 0)\n",
    "circuit.connect(y1, 1, wg1, 0)\n",
    "circuit.connect(y1, 2, wg2, 0)\n",
    "circuit.connect(y2, 0, output_gc, 1)\n",
    "circuit.connect(wg1, 1, y2, 1)\n",
    "circuit.connect(wg2, 1, y2, 2)"
   ]
  },
  {
   "cell_type": "markdown",
   "metadata": {},
   "source": [
    "### Simuate the circuit"
   ]
  },
  {
   "cell_type": "code",
   "execution_count": null,
   "metadata": {},
   "outputs": [],
   "source": [
    "warnings.filterwarnings('ignore') #ignore all/complex number warnings from numpy or scipy\n",
    "sim_start = time.time()\n",
    "\n",
    "#simulate network\n",
    "circuit.simulate_network()\n",
    "\n",
    "print(\"simulation finished in %ss\"%(str(round(time.time()-sim_start,2))))"
   ]
  },
  {
   "cell_type": "markdown",
   "metadata": {},
   "source": [
    "### Visualize the simulation result"
   ]
  },
  {
   "cell_type": "code",
   "execution_count": null,
   "metadata": {},
   "outputs": [],
   "source": [
    "circuit.sim_result.plot_sparameters(show_freq = False, scale=\"log\")"
   ]
  }
 ],
 "metadata": {
  "kernelspec": {
   "display_name": "Python 3",
   "language": "python",
   "name": "python3"
  },
  "language_info": {
   "codemirror_mode": {
    "name": "ipython",
    "version": 3
   },
   "file_extension": ".py",
   "mimetype": "text/x-python",
   "name": "python",
   "nbconvert_exporter": "python",
   "pygments_lexer": "ipython3",
   "version": "3.7.4"
  }
 },
 "nbformat": 4,
 "nbformat_minor": 4
}
