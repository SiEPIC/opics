{
 "cells": [
  {
   "cell_type": "markdown",
   "metadata": {},
   "source": [
    "# Micro Ring Resonator (MRR)\n",
    "\n",
    "**We use SiEPIC EBeam library in this tutorial.**\n",
    "\n",
    "   This notebook walks through the process of setting up and simulating a micro ring resonator device using the OPICS package. \n",
    "\n",
    "   A ring resonator consists of an optical waveguide which is looped back on itself, such that a resonance occurs when the optical path length of the resonator is exactly a whole number of wavelengths. In simple terms, an all pass ring resonator can be thought of consisting input/output components, evanescent coupling region like a directional coupler, and a waveguide (as shown below).\n",
    "<img style=\"width:70%;height:50%;\" src=\"files/mrr1.svg\">"
   ]
  },
  {
   "cell_type": "code",
   "execution_count": null,
   "metadata": {},
   "outputs": [],
   "source": [
    "import time, warnings\n",
    "import numpy as np\n",
    "import matplotlib.pyplot as plt\n",
    "import opics as op"
   ]
  },
  {
   "cell_type": "markdown",
   "metadata": {},
   "source": [
    "### Import component library\n",
    "Import `ebeam` library from `libs` module."
   ]
  },
  {
   "cell_type": "code",
   "execution_count": null,
   "metadata": {},
   "outputs": [],
   "source": [
    "ebeam = op.libs.ebeam"
   ]
  },
  {
   "cell_type": "markdown",
   "metadata": {},
   "source": [
    "### Define network \n",
    "Create an instance of `Network` class, which is used to add, connect, and simulate circuit components. "
   ]
  },
  {
   "cell_type": "code",
   "execution_count": null,
   "metadata": {},
   "outputs": [],
   "source": [
    "circuit_name = \"mrr\"\n",
    "circuit = op.Network(circuit_name)"
   ]
  },
  {
   "cell_type": "markdown",
   "metadata": {},
   "source": [
    "### Add circuit components\n",
    "Add grating couplers, evanescent coupler (e.g. directional coupler halfring), and a waveguide. You can define custom frequency data points for a component as well (see the example for output_GC)."
   ]
  },
  {
   "cell_type": "code",
   "execution_count": null,
   "metadata": {},
   "outputs": [],
   "source": [
    "\n",
    "input_gc = circuit.add_component(ebeam.GC())\n",
    "output_gc = circuit.add_component(ebeam.GC())\n",
    "wg = circuit.add_component(ebeam.Waveguide(length=np.pi*5e-6))\n",
    "dc_halfring = circuit.add_component(ebeam.DC_halfring())\n"
   ]
  },
  {
   "cell_type": "markdown",
   "metadata": {},
   "source": [
    "### Define circuit connectivity\n",
    "\n",
    "In this section, we define the component connections. The connections are defined using `Network.connect`, e.g.`Network.connect(component1, component1_port, component2, component2_port)`"
   ]
  },
  {
   "cell_type": "code",
   "execution_count": null,
   "metadata": {},
   "outputs": [],
   "source": [
    "#connect components\n",
    "circuit.connect(input_gc, 1, dc_halfring, 0)\n",
    "circuit.connect(dc_halfring, 1, wg, 0)\n",
    "circuit.connect(wg, 1, dc_halfring, 3)\n",
    "circuit.connect(dc_halfring,2, output_gc,1)"
   ]
  },
  {
   "cell_type": "markdown",
   "metadata": {},
   "source": [
    "### Simulate the circuit"
   ]
  },
  {
   "cell_type": "code",
   "execution_count": null,
   "metadata": {},
   "outputs": [],
   "source": [
    "warnings.filterwarnings('ignore') #ignore all/complex number warnings from numpy or scipy\n",
    "sim_start = time.time()\n",
    "\n",
    "#simulate network\n",
    "circuit.simulate_network()\n",
    "\n",
    "print(\"simulation finished in %ss\"%(str(round(time.time()-sim_start,2))))\n"
   ]
  },
  {
   "cell_type": "markdown",
   "metadata": {},
   "source": [
    "### Visualize the simulation result"
   ]
  },
  {
   "cell_type": "code",
   "execution_count": null,
   "metadata": {},
   "outputs": [],
   "source": [
    "circuit.sim_result.plot_sparameters(show_freq = False, scale=\"abs_sq\", ports = [[1,0], [0,0]])"
   ]
  }
 ],
 "metadata": {
  "kernelspec": {
   "display_name": "Python 3",
   "language": "python",
   "name": "python3"
  },
  "language_info": {
   "codemirror_mode": {
    "name": "ipython",
    "version": 3
   },
   "file_extension": ".py",
   "mimetype": "text/x-python",
   "name": "python",
   "nbconvert_exporter": "python",
   "pygments_lexer": "ipython3",
   "version": "3.7.4"
  }
 },
 "nbformat": 4,
 "nbformat_minor": 4
}
